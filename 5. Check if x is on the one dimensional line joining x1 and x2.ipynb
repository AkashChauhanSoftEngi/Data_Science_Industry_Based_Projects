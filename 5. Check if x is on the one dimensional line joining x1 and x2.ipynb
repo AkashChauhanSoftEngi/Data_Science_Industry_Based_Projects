{
 "cells": [
  {
   "cell_type": "markdown",
   "metadata": {
    "code_folding": []
   },
   "source": [
    "### Check if x is on the one dimensional line joining x1 and x2 like the following diagram:\n",
    "\n",
    "x1-----x-----x2 [True]\n",
    "\n",
    "x2-----x-----x1 [True]\n",
    "\n",
    "x1-----x2-----x [False]"
   ]
  },
  {
   "cell_type": "code",
   "execution_count": 1,
   "metadata": {},
   "outputs": [],
   "source": [
    "def is_online(x1,x2,x):\n",
    "    \n",
    "    if x>=x1 and x<=x2:\n",
    "        return True\n",
    "    \n",
    "    if x>=x2 and x<=x1:\n",
    "        return True\n",
    "    \n",
    "    else:\n",
    "        return False\n",
    "    "
   ]
  },
  {
   "cell_type": "code",
   "execution_count": 2,
   "metadata": {},
   "outputs": [
    {
     "data": {
      "text/plain": [
       "True"
      ]
     },
     "execution_count": 2,
     "metadata": {},
     "output_type": "execute_result"
    }
   ],
   "source": [
    "is_online(10, 20, 30)\n",
    "is_online(10, 20, 20)\n",
    "is_online(10, 20, -10)\n",
    "is_online(-4, -5, -4.5)"
   ]
  },
  {
   "cell_type": "code",
   "execution_count": null,
   "metadata": {},
   "outputs": [],
   "source": []
  }
 ],
 "metadata": {
  "kernelspec": {
   "display_name": "Python 3",
   "language": "python",
   "name": "python3"
  },
  "language_info": {
   "codemirror_mode": {
    "name": "ipython",
    "version": 3
   },
   "file_extension": ".py",
   "mimetype": "text/x-python",
   "name": "python",
   "nbconvert_exporter": "python",
   "pygments_lexer": "ipython3",
   "version": "3.6.8"
  },
  "toc": {
   "base_numbering": 1,
   "nav_menu": {},
   "number_sections": true,
   "sideBar": true,
   "skip_h1_title": false,
   "title_cell": "Table of Contents",
   "title_sidebar": "Contents",
   "toc_cell": false,
   "toc_position": {},
   "toc_section_display": true,
   "toc_window_display": false
  }
 },
 "nbformat": 4,
 "nbformat_minor": 2
}
