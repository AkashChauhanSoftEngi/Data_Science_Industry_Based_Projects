{
 "cells": [
  {
   "cell_type": "code",
   "execution_count": 2,
   "metadata": {},
   "outputs": [
    {
     "name": "stdout",
     "output_type": "stream",
     "text": [
      "From stephen.marquard@uct.ac.za Sat Jan  5 09:14:16 2008\r\n",
      "Return-Path: <postmaster@collab.sakaiproject.org>\r\n",
      "Received: from murder (mail.umich.edu [141.211.14.90])\r\n",
      "\t by frankenstein.mail.umich.edu (Cyrus v2.3.8) with LMTPA;\r\n",
      "\t Sat, 05 Jan 2008 09:14:16 -0500\r\n",
      "X-Sieve: CMU Sieve 2.3\r\n",
      "Received: from murder ([unix socket])\r\n",
      "\t by mail.umich.edu (Cyrus v2.2.12) with LMTPA;\r\n",
      "\t Sat, 05 Jan 2008 09:14:16 -0500\r\n",
      "Received: from holes.mr.itd.umich.edu (holes.mr.itd.umich.edu [141.211.14.79])\r\n",
      "\tby flawless.mail.umich.edu () with ESMTP id m05EEFR1013674;\r\n",
      "\tSat, 5 Jan 2008 09:14:15 -0500\r\n",
      "Received: FROM paploo.uhi.ac.uk (app1.prod.collab.uhi.ac.uk [194.35.219.184])\r\n",
      "\tBY holes.mr.itd.umich.edu ID 477F90B0.2DB2F.12494 ; \r\n",
      "\t 5 Jan 2008 09:14:10 -0500\r\n"
     ]
    }
   ],
   "source": [
    "!head -n 15 /cxldata/datasets/project/mbox-short.txt"
   ]
  },
  {
   "cell_type": "code",
   "execution_count": 3,
   "metadata": {},
   "outputs": [],
   "source": [
    "fhand = open('/cxldata/datasets/project/mbox-short.txt')\n",
    "inp = fhand.read()\n",
    "fhand.close()"
   ]
  },
  {
   "cell_type": "code",
   "execution_count": 21,
   "metadata": {},
   "outputs": [
    {
     "name": "stdout",
     "output_type": "stream",
     "text": [
      "1910\n"
     ]
    }
   ],
   "source": [
    "def number_of_lines():\n",
    "    fhand = open('/cxldata/datasets/project/mbox-short.txt')\n",
    "    data = fhand.read()\n",
    "    fhand.close()\n",
    "    \n",
    "    count  = 0\n",
    "    for c in data:\n",
    "        if c == '\\n':\n",
    "            count += 1\n",
    "    return count\n",
    "\n",
    "print(number_of_lines())"
   ]
  },
  {
   "cell_type": "code",
   "execution_count": 30,
   "metadata": {},
   "outputs": [
    {
     "name": "stdout",
     "output_type": "stream",
     "text": [
      "27\n"
     ]
    }
   ],
   "source": [
    "def count_number_of_lines():\n",
    "    fhand = open('/cxldata/datasets/project/mbox-short.txt','r')\n",
    "    count  = 0\n",
    "    for line in fhand:\n",
    "        line = line.rstrip()\n",
    "        if line.startswith('Subject:'):\n",
    "            count += 1\n",
    "    return count\n",
    "\n",
    "print(count_number_of_lines())"
   ]
  },
  {
   "cell_type": "code",
   "execution_count": 79,
   "metadata": {},
   "outputs": [
    {
     "name": "stdout",
     "output_type": "stream",
     "text": [
      "0.7507185185185187\n"
     ]
    }
   ],
   "source": [
    "def average_spam_confidence():\n",
    "    fhand = open('/cxldata/datasets/project/mbox-short.txt','r')\n",
    "    sum = 0\n",
    "    count = 0\n",
    "    for line in fhand:\n",
    "        line = line.rstrip()\n",
    "        if line.startswith('X-DSPAM-Confidence:'):\n",
    "            data = line.split(':')\n",
    "            count = count+1\n",
    "            sum  = sum + float(data[1])\n",
    "    return sum/count\n",
    "\n",
    "print(average_spam_confidence())"
   ]
  },
  {
   "cell_type": "code",
   "execution_count": 83,
   "metadata": {},
   "outputs": [
    {
     "name": "stdout",
     "output_type": "stream",
     "text": [
      "{'Sat': 1, 'Fri': 20, 'Thu': 6}\n"
     ]
    }
   ],
   "source": [
    "# Python Project - Churn Emails - Find Which Day of the Week the Email was sent\n",
    "\n",
    "import re\n",
    "def find_email_sent_days():\n",
    "    with open(\"/cxldata/datasets/project/mbox-short.txt\") as f:\n",
    "            content=f.readlines()            \n",
    "            day_dict={}\n",
    "            dayofweek=''\n",
    "            for line in content:\n",
    "                if re.findall('From ',line):\n",
    "                    dayofweek=line.split(' ')[2]\n",
    "                    day_dict[dayofweek]= day_dict.get(dayofweek,0) + 1                    \n",
    "    return day_dict\n",
    "print(find_email_sent_days())"
   ]
  },
  {
   "cell_type": "code",
   "execution_count": 89,
   "metadata": {},
   "outputs": [
    {
     "name": "stdout",
     "output_type": "stream",
     "text": [
      "{'stephen.marquard@uct.ac.za': 2, 'louis@media.berkeley.edu': 3, 'zqian@umich.edu': 4, 'rjlowe@iupui.edu': 2, 'cwen@iupui.edu': 5, 'gsilver@umich.edu': 3, 'wagnermr@iupui.edu': 1, 'antranig@caret.cam.ac.uk': 1, 'gopal.ramasammycook@gmail.com': 1, 'david.horwitz@uct.ac.za': 4, 'ray@media.berkeley.edu': 1}\n"
     ]
    }
   ],
   "source": [
    "# Python Project - Churn Emails - Count Number of Messages From Each Email Address\n",
    "\n",
    "def count_message_from_email():\n",
    "    with open(\"/cxldata/datasets/project/mbox-short.txt\") as f:\n",
    "            content=f.readlines()            \n",
    "            day_dict={}\n",
    "            dayofweek=''\n",
    "            for line in content:\n",
    "                if re.findall('From ',line):\n",
    "                    email=line.split(' ')[1]\n",
    "                    day_dict[email]= day_dict.get(email,0) + 1                    \n",
    "    return day_dict\n",
    "\n",
    "print(count_message_from_email())"
   ]
  },
  {
   "cell_type": "code",
   "execution_count": 97,
   "metadata": {},
   "outputs": [
    {
     "name": "stdout",
     "output_type": "stream",
     "text": [
      "{'uct.ac.za': 6, 'media.berkeley.edu': 4, 'umich.edu': 7, 'iupui.edu': 8, 'caret.cam.ac.uk': 1, 'gmail.com': 1}\n"
     ]
    }
   ],
   "source": [
    "# Python Project - Churn Emails - Count Number of Messages From Each Domain\n",
    "\n",
    "def count_message_from_domain():\n",
    "    with open(\"/cxldata/datasets/project/mbox-short.txt\") as f:\n",
    "            content=f.readlines()            \n",
    "            day_dict={}\n",
    "            dayofweek=''\n",
    "            for line in content:\n",
    "                if re.findall('From ',line):\n",
    "                    email=line.split(' ')[1]\n",
    "                    domain=email.split('@')[1]\n",
    "                    day_dict[domain]= day_dict.get(domain,0) + 1                    \n",
    "    return day_dict\n",
    "\n",
    "print(count_message_from_domain())"
   ]
  },
  {
   "cell_type": "code",
   "execution_count": null,
   "metadata": {},
   "outputs": [],
   "source": []
  }
 ],
 "metadata": {
  "kernelspec": {
   "display_name": "Python 3",
   "language": "python",
   "name": "python3"
  },
  "language_info": {
   "codemirror_mode": {
    "name": "ipython",
    "version": 3
   },
   "file_extension": ".py",
   "mimetype": "text/x-python",
   "name": "python",
   "nbconvert_exporter": "python",
   "pygments_lexer": "ipython3",
   "version": "3.6.8"
  },
  "toc": {
   "base_numbering": 1,
   "nav_menu": {},
   "number_sections": true,
   "sideBar": true,
   "skip_h1_title": false,
   "title_cell": "Table of Contents",
   "title_sidebar": "Contents",
   "toc_cell": false,
   "toc_position": {},
   "toc_section_display": true,
   "toc_window_display": false
  }
 },
 "nbformat": 4,
 "nbformat_minor": 2
}
